{
 "cells": [
  {
   "cell_type": "markdown",
   "id": "108f989d-9edf-4d57-a919-7e4737e9dd70",
   "metadata": {},
   "source": [
    "## Q1. List any five functions of the pandas library with execution.\n",
    "\n"
   ]
  },
  {
   "cell_type": "code",
   "execution_count": null,
   "id": "2e979cf9-1781-426a-8366-58f518f47a59",
   "metadata": {},
   "outputs": [],
   "source": [
    "#1\n",
    "import pandas as pd\n",
    "\n",
    "# Reading a CSV file into a DataFrame\n",
    "data = pd.read_csv('data.csv')\n",
    "print(data.head())\n",
    "\n",
    "#2\n",
    "# Displaying the first 5 rows of the DataFrame\n",
    "print(data.head())\n",
    "\n",
    "#3\n",
    "# Displaying information about the DataFrame\n",
    "print(data.info())\n",
    "\n",
    "#4\n",
    "# Generating descriptive statistics of the DataFrame\n",
    "print(data.describe())\n",
    "\n",
    "#5\n",
    "# Filling missing values in the DataFrame with the mean of the column\n",
    "data_filled = data.fillna(data.mean())\n",
    "print(data_filled.head())\n"
   ]
  },
  {
   "cell_type": "markdown",
   "id": "52a6bc55-3584-4e98-9e0f-a6a67a1af504",
   "metadata": {},
   "source": [
    "## Q2. Given a Pandas DataFrame df with columns 'A', 'B', and 'C', write a Python function to re-index the DataFrame with a new index that starts from 1 and increments by 2 for each row."
   ]
  },
  {
   "cell_type": "code",
   "execution_count": 1,
   "id": "3b6c3568-87c7-42c8-a817-916032a49527",
   "metadata": {},
   "outputs": [
    {
     "name": "stdout",
     "output_type": "stream",
     "text": [
      "   A  B   C\n",
      "1  1  5   9\n",
      "3  2  6  10\n",
      "5  3  7  11\n",
      "7  4  8  12\n"
     ]
    }
   ],
   "source": [
    "import pandas as pd\n",
    "\n",
    "df = pd.DataFrame({'A': [1, 2, 3, 4], 'B': [5, 6, 7, 8], 'C': [9, 10, 11, 12]})\n",
    "\n",
    "def reindex_dataframe(df):\n",
    "    df_reset = df.reset_index(drop=True)\n",
    "    \n",
    "    new_index = pd.Series(range(1, len(df_reset) * 2, 2))\n",
    "    \n",
    "    df_reset.index = new_index\n",
    "    \n",
    "    return df_reset\n",
    "\n",
    "new_df = reindex_dataframe(df)\n",
    "print(new_df)\n"
   ]
  },
  {
   "cell_type": "markdown",
   "id": "01e79cf7-ae1e-4192-aa57-b69c81ca6e58",
   "metadata": {},
   "source": [
    "## Q3. You have a Pandas DataFrame df with a column named 'Values'. Write a Python function that iterates over the DataFrame and calculates the sum of the first three values in the 'Values' column. The function should print the sum to the console.\n",
    "\n",
    "## For example, if the 'Values' column of df contains the values [10, 20, 30, 40, 50], your function should calculate and print the sum of the first three values, which is 60."
   ]
  },
  {
   "cell_type": "code",
   "execution_count": 2,
   "id": "6a2784d6-27a4-4ec1-845a-7c80a9849c70",
   "metadata": {},
   "outputs": [
    {
     "name": "stdout",
     "output_type": "stream",
     "text": [
      "Sum of the first three values: 60\n"
     ]
    }
   ],
   "source": [
    "import pandas as pd\n",
    "\n",
    "def calculate_sum_of_first_three_values(df):\n",
    "    first_three_values = df['Values'].head(3)\n",
    "    \n",
    "    sum_of_first_three_values = first_three_values.sum()\n",
    "    \n",
    "\n",
    "    print(\"Sum of the first three values:\", sum_of_first_three_values)\n",
    "\n",
    "df = pd.DataFrame({'Values': [10, 20, 30, 40, 50]})\n",
    "\n",
    "calculate_sum_of_first_three_values(df)\n"
   ]
  },
  {
   "cell_type": "markdown",
   "id": "34a627b9-36a7-40fc-852d-18c461951655",
   "metadata": {},
   "source": [
    "## Q4. Given a Pandas DataFrame df with a column 'Text', write a Python function to create a new column 'Word_Count' that contains the number of words in each row of the 'Text' column."
   ]
  },
  {
   "cell_type": "code",
   "execution_count": 5,
   "id": "0155e09a-72fe-498b-8f53-54cae2af2b24",
   "metadata": {},
   "outputs": [
    {
     "name": "stdout",
     "output_type": "stream",
     "text": [
      "                   Text  Word_Count\n",
      "0                  Arun           1\n",
      "1          Varun vellte           2\n",
      "2  Klaiaaa sa ma ka tui           5\n"
     ]
    }
   ],
   "source": [
    "def add_word_count_column(df):\n",
    "    word_count = lambda text: len(text.split())\n",
    "\n",
    "    df['Word_Count'] = df['Text'].apply(word_count)\n",
    "    \n",
    "    return df\n",
    "\n",
    "df = pd.DataFrame({'Text': ['Arun', 'Varun vellte', 'Klaiaaa sa ma ka tui']})\n",
    "\n",
    "df_with_word_count = add_word_count_column(df)\n",
    "print(df_with_word_count)\n"
   ]
  },
  {
   "cell_type": "markdown",
   "id": "16b44172-c570-4276-962d-3f69616c94e3",
   "metadata": {},
   "source": [
    "## Q5. How are DataFrame.size() and DataFrame.shape() different?"
   ]
  },
  {
   "cell_type": "code",
   "execution_count": 6,
   "id": "1c0a093a-ff08-4112-93f8-2aa6a5f0bae4",
   "metadata": {},
   "outputs": [
    {
     "name": "stdout",
     "output_type": "stream",
     "text": [
      "6\n"
     ]
    }
   ],
   "source": [
    "# DataFrame.size()\n",
    "df = pd.DataFrame({'A': [1, 2, 3], 'B': [4, 5, 6]})\n",
    "\n",
    "print(df.size) \n"
   ]
  },
  {
   "cell_type": "code",
   "execution_count": 7,
   "id": "12161380-5402-4834-badb-12dbc1c7c305",
   "metadata": {},
   "outputs": [
    {
     "name": "stdout",
     "output_type": "stream",
     "text": [
      "(3, 2)\n"
     ]
    }
   ],
   "source": [
    "# DataFrame.shape()\n",
    "\n",
    "df = pd.DataFrame({'A': [1, 2, 3], 'B': [4, 5, 6]})\n",
    "\n",
    "print(df.shape) "
   ]
  },
  {
   "cell_type": "markdown",
   "id": "6babae00-e17d-49ef-8d8d-2f40d304d39d",
   "metadata": {},
   "source": [
    "## Q6. Which function of pandas do we use to read an excel file?\n",
    "\n",
    "# >> read_excel()"
   ]
  },
  {
   "cell_type": "markdown",
   "id": "aa1dedaf-d93f-4d11-9acb-ef2930e68bae",
   "metadata": {},
   "source": [
    "## Q7. You have a Pandas DataFrame df that contains a column named 'Email' that contains email addresses in the format 'username@domain.com'. Write a Python function that creates a new column 'Username' in df that contains only the username part of each email address."
   ]
  },
  {
   "cell_type": "code",
   "execution_count": 8,
   "id": "68e54d65-1335-49fa-80ea-13d8a13de332",
   "metadata": {},
   "outputs": [
    {
     "name": "stdout",
     "output_type": "stream",
     "text": [
      "               Email Username\n",
      "0  user1@example.com    user1\n",
      "1  user2@example.com    user2\n",
      "2  user3@example.com    user3\n"
     ]
    }
   ],
   "source": [
    "def extract_username(df):\n",
    "    df['Username'] = df['Email'].apply(lambda email: email.split('@')[0])\n",
    "    \n",
    "    return df\n",
    "\n",
    "df = pd.DataFrame({'Email': ['user1@example.com', 'user2@example.com', 'user3@example.com']})\n",
    "\n",
    "df_with_username = extract_username(df)\n",
    "print(df_with_username)\n"
   ]
  },
  {
   "cell_type": "markdown",
   "id": "7a3cbbf9-abb3-47f8-9265-7f827316115e",
   "metadata": {},
   "source": [
    "## Q8. You have a Pandas DataFrame df with columns 'A', 'B', and 'C'. Write a Python function that selects all rows where the value in column 'A' is greater than 5 and the value in column 'B' is less than 10. The function should return a new DataFrame that contains only the selected rows. For example, if df contains the following values:\n",
    "\n",
    "<p>\n",
    "A B C\n",
    "0 3 5 1\n",
    "1 8 2 7\n",
    "2 6 9 4\n",
    "3 2 3 5\n",
    "4 9 1 2\n",
    "Your function should select the following rows: A B C\n",
    "1 8 2 7\n",
    "4 9 1 2\n",
    "The function should return a new DataFrame that contains only the selected rows.\n",
    "<p>"
   ]
  },
  {
   "cell_type": "code",
   "execution_count": 10,
   "id": "671713c3-7bc7-4dc2-8593-e676c94d7ba8",
   "metadata": {},
   "outputs": [
    {
     "name": "stdout",
     "output_type": "stream",
     "text": [
      "   A  B  C\n",
      "1  8  2  7\n",
      "2  6  9  4\n",
      "4  9  1  2\n"
     ]
    }
   ],
   "source": [
    "def select_rows(df):\n",
    "    selected_rows = df[(df['A'] > 5) & (df['B'] < 10)]\n",
    "    \n",
    "    return selected_rows\n",
    "\n",
    "df = pd.DataFrame({'A': [3, 8, 6, 2, 9],\n",
    "                   'B': [5, 2, 9, 3, 1],\n",
    "                   'C': [1, 7, 4, 5, 2]})\n",
    "\n",
    "\n",
    "selected_df = select_rows(df)\n",
    "print(selected_df)\n"
   ]
  },
  {
   "cell_type": "markdown",
   "id": "1486ca3a-9e64-4776-b254-cb7cff2aaa33",
   "metadata": {},
   "source": [
    "## Q9. Given a Pandas DataFrame df with a column 'Values', write a Python function to calculate the mean, median, and standard deviation of the values in the 'Values' column."
   ]
  },
  {
   "cell_type": "code",
   "execution_count": 12,
   "id": "c569dd43-ba83-40eb-b0f5-2eb78efad7d4",
   "metadata": {},
   "outputs": [
    {
     "name": "stdout",
     "output_type": "stream",
     "text": [
      "Mean: 30.0\n",
      "Median: 30.0\n",
      "Standard Deviation: 15.811388300841896\n"
     ]
    }
   ],
   "source": [
    "def calculate_statistics(df):\n",
    "   \n",
    "    mean_value = df['Values'].mean()\n",
    "    median_value = df['Values'].median()\n",
    "    std_value = df['Values'].std()\n",
    "    \n",
    "    return mean_value, median_value, std_value\n",
    "\n",
    "\n",
    "df = pd.DataFrame({'Values': [10, 20, 30, 40, 50]})\n",
    "\n",
    "mean, median, std = calculate_statistics(df)\n",
    "print(\"Mean:\", mean)\n",
    "print(\"Median:\", median)\n",
    "print(\"Standard Deviation:\", std)\n"
   ]
  },
  {
   "cell_type": "markdown",
   "id": "4b228c44-8335-4964-9790-fd90a7bb5c2e",
   "metadata": {},
   "source": [
    "## Q10. Given a Pandas DataFrame df with a column 'Sales' and a column 'Date', write a Python function to create a new column 'MovingAverage' that contains the moving average of the sales for the past 7 days for each row in the DataFrame. The moving average should be calculated using a window of size 7 and should include the current day."
   ]
  },
  {
   "cell_type": "code",
   "execution_count": 13,
   "id": "a8c80cac-6fb2-4169-b6dc-2b8d866cd903",
   "metadata": {},
   "outputs": [
    {
     "name": "stdout",
     "output_type": "stream",
     "text": [
      "        Date  Sales  MovingAverage\n",
      "0 2024-01-01     10           10.0\n",
      "1 2024-01-02     20           15.0\n",
      "2 2024-01-03     30           20.0\n",
      "3 2024-01-04     40           25.0\n",
      "4 2024-01-05     50           30.0\n"
     ]
    }
   ],
   "source": [
    "def calculate_moving_average(df):\n",
    "    df['Date'] = pd.to_datetime(df['Date'])\n",
    "    \n",
    "    df.sort_values(by='Date', inplace=True)\n",
    "    \n",
    "    df['MovingAverage'] = df['Sales'].rolling(window=7, min_periods=1).mean()\n",
    "    \n",
    "    return df\n",
    "\n",
    "df = pd.DataFrame({'Date': ['2024-01-01', '2024-01-02', '2024-01-03', '2024-01-04', '2024-01-05'],\n",
    "                    'Sales': [10, 20, 30, 40, 50]})\n",
    "\n",
    "\n",
    "df_with_moving_average = calculate_moving_average(df)\n",
    "print(df_with_moving_average)\n"
   ]
  },
  {
   "cell_type": "markdown",
   "id": "12f30456-72c4-4407-af29-fe5c09439222",
   "metadata": {},
   "source": [
    "<p><b>Q11. You have a Pandas DataFrame df with a column 'Date'. Write a Python function that creates a new\n",
    "column 'Weekday' in the DataFrame. The 'Weekday' column should contain the weekday name (e.g.\n",
    "Monday, Tuesday) corresponding to each date in the 'Date' column.\n",
    "For example, if df contains the following values:\n",
    "Date\n",
    "0 2023-01-01\n",
    "1 2023-01-02\n",
    "2 2023-01-03\n",
    "3 2023-01-04\n",
    "4 2023-01-05\n",
    "Your function should create the following DataFrame:\n",
    "\n",
    "Date Weekday\n",
    "0 2023-01-01 Sunday\n",
    "1 2023-01-02 Monday\n",
    "2 2023-01-03 Tuesday\n",
    "3 2023-01-04 Wednesday\n",
    "4 2023-01-05 Thursday\n",
    "The function should return the modified DataFrame.<b><p>"
   ]
  },
  {
   "cell_type": "code",
   "execution_count": 14,
   "id": "d21d5965-ef25-45b2-af9e-feae5acca0bd",
   "metadata": {},
   "outputs": [
    {
     "name": "stdout",
     "output_type": "stream",
     "text": [
      "        Date    Weekday\n",
      "0 2023-01-01     Sunday\n",
      "1 2023-01-02     Monday\n",
      "2 2023-01-03    Tuesday\n",
      "3 2023-01-04  Wednesday\n",
      "4 2023-01-05   Thursday\n"
     ]
    }
   ],
   "source": [
    "def add_weekday_column(df):\n",
    "    df['Date'] = pd.to_datetime(df['Date'])\n",
    "    \n",
    "    df['Weekday'] = df['Date'].dt.strftime('%A')\n",
    "    \n",
    "    return df\n",
    "\n",
    "df = pd.DataFrame({'Date': ['2023-01-01', '2023-01-02', '2023-01-03', '2023-01-04', '2023-01-05']})\n",
    "\n",
    "df_with_weekday = add_weekday_column(df)\n",
    "print(df_with_weekday)\n"
   ]
  },
  {
   "cell_type": "markdown",
   "id": "48220350-e063-433c-987a-85b65b0845c9",
   "metadata": {},
   "source": [
    "## Q12. Given a Pandas DataFrame df with a column 'Date' that contains timestamps, write a Python function to select all rows where the date is between '2023-01-01' and '2023-01-31'."
   ]
  },
  {
   "cell_type": "code",
   "execution_count": 15,
   "id": "0c05557f-a721-4fae-a9f0-3d70b7a14922",
   "metadata": {},
   "outputs": [
    {
     "name": "stdout",
     "output_type": "stream",
     "text": [
      "        Date\n",
      "0 2023-01-01\n",
      "1 2023-01-15\n",
      "2 2023-01-31\n"
     ]
    }
   ],
   "source": [
    "import pandas as pd\n",
    "\n",
    "def select_rows_in_date_range(df):\n",
    "    df['Date'] = pd.to_datetime(df['Date'])\n",
    "    \n",
    "    start_date = pd.Timestamp('2023-01-01')\n",
    "    end_date = pd.Timestamp('2023-01-31')\n",
    "    \n",
    "    selected_rows = df[(df['Date'] >= start_date) & (df['Date'] <= end_date)]\n",
    "    \n",
    "    return selected_rows\n",
    "\n",
    "df = pd.DataFrame({'Date': ['2023-01-01', '2023-01-15', '2023-01-31', '2023-02-10']})\n",
    "\n",
    "selected_df = select_rows_in_date_range(df)\n",
    "print(selected_df)\n"
   ]
  },
  {
   "cell_type": "markdown",
   "id": "df842cdd-41c9-41f3-b1ca-226b9da44c82",
   "metadata": {},
   "source": [
    "## Q13. To use the basic functions of pandas, what is the first and foremost necessary library that needs to be imported?\n",
    "\n",
    "# import pandas as pd\n"
   ]
  },
  {
   "cell_type": "code",
   "execution_count": null,
   "id": "c30008b7-12cb-4ce0-a85e-3c1678ee8bc5",
   "metadata": {},
   "outputs": [],
   "source": []
  }
 ],
 "metadata": {
  "kernelspec": {
   "display_name": "Python 3 (ipykernel)",
   "language": "python",
   "name": "python3"
  },
  "language_info": {
   "codemirror_mode": {
    "name": "ipython",
    "version": 3
   },
   "file_extension": ".py",
   "mimetype": "text/x-python",
   "name": "python",
   "nbconvert_exporter": "python",
   "pygments_lexer": "ipython3",
   "version": "3.10.8"
  }
 },
 "nbformat": 4,
 "nbformat_minor": 5
}
